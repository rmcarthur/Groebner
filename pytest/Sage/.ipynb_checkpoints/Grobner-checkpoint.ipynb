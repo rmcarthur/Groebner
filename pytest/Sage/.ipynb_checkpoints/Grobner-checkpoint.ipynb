{
 "cells": [
  {
   "cell_type": "code",
   "execution_count": 43,
   "metadata": {
    "collapsed": false
   },
   "outputs": [
    {
     "name": "stdout",
     "output_type": "stream",
     "text": [
      "[y^2 + 1, x - 1/2*y]\n",
      "[y^2 + 1/4, x - 2*y]\n",
      "[y^3 - 3/25, x - 5/3*y]\n"
     ]
    }
   ],
   "source": [
    "x,y,z = QQ['x,y,z'].gens()\n",
    "I = ideal(y - 2*x, 1+2*x*y)\n",
    "B = I.groebner_basis()\n",
    "print(B)\n",
    "\n",
    "I2 = ideal(x - 2*y, 1+2*x*y)\n",
    "B2 = I2.groebner_basis()\n",
    "print(B2)\n",
    "\n",
    "\n",
    "\n",
    "\n",
    "\n",
    "\n",
    "I2 = ideal(3*x**2*y -1, 5*x*y**2 -1)\n",
    "B2 = I2.groebner_basis()\n",
    "print(B2)"
   ]
  },
  {
   "cell_type": "code",
   "execution_count": 44,
   "metadata": {
    "collapsed": false
   },
   "outputs": [
    {
     "name": "stdout",
     "output_type": "stream",
     "text": [
      "1/3*y\n",
      "1/5*x\n",
      "3*x^2*y - 1\n",
      "5*x*y^2 - 1\n",
      "x^2*y^2\n",
      "1/5*x - 1/3*y\n"
     ]
    }
   ],
   "source": [
    "P.<x,y > = PolynomialRing (QQ , order ='degrevlex')\n",
    "def s_calc(f0,f1):\n",
    "    #print(f0.lt())\n",
    "    \n",
    "    #print(f1.lt())\n",
    "    lcm = f0.lt().lcm(f1.lt())\n",
    "    lcm /= lcm.lc()\n",
    "    #print(lcm)\n",
    "    #print(lcm//f0.lt()*f0)\n",
    "    #print(lcm//f1.lt()*f1)\n",
    "\n",
    "    s1 = lcm//f0.lt()\n",
    "    s2 = lcm//f1.lt()\n",
    "    print(s1)\n",
    "    print(s2)\n",
    "    print(f0)\n",
    "    print(f1)\n",
    "    print(lcm)\n",
    "    s1 = lcm//f0.lt() * f0 \n",
    "    s2 = lcm//f1.lt() * f1\n",
    "    s = s1-s2\n",
    "    return s\n",
    "\n",
    "f2,f3 = y^2 + 1, x-1/2*y\n",
    "f0, f1 =y-2*x, 1+2*x*y\n",
    "f4, f5 = 3*x^2 * y - 1, 5*x*y^2 -1\n",
    "print(s_calc(f4,f5))\n",
    "\n",
    "\n",
    "\n"
   ]
  },
  {
   "cell_type": "code",
   "execution_count": null,
   "metadata": {
    "collapsed": true
   },
   "outputs": [],
   "source": [
    "\n",
    "'''\n",
    "I = [f0,f1]\n",
    "for a,b in itertools.combinations(I, 2):\n",
    "    polys = [i for i in I]\n",
    "    polys.append(s_calc(a,b))\n",
    "print(polys)\n",
    "#print(s_calc(f0,f1))\n",
    "\n",
    "GB = I2.groebner_basis()\n",
    "'''"
   ]
  }
 ],
 "metadata": {
  "kernelspec": {
   "display_name": "SageMath 7.4",
   "language": "",
   "name": "sagemath"
  },
  "language_info": {
   "codemirror_mode": {
    "name": "ipython",
    "version": 2
   },
   "file_extension": ".py",
   "mimetype": "text/x-python",
   "name": "python",
   "nbconvert_exporter": "python",
   "pygments_lexer": "ipython2",
   "version": "2.7.10"
  }
 },
 "nbformat": 4,
 "nbformat_minor": 0
}
